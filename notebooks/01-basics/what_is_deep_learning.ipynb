{
 "cells": [
  {
   "cell_type": "markdown",
   "metadata": {},
   "source": [
    "# Machine Learning, Deep Learning, and AI\n",
    "\n",
    "- **ML** \n",
    "\n",
    "\n",
    "Machine learning is a field concerned with the development of algorithms that learn models, representations, and rules automatically from data.\n",
    "\n",
    "- **DL**\n",
    "\n",
    "\n",
    "Deep learning is part of ML methods based on artificial neural networks.\n",
    "\n",
    "- **AI**\n",
    "\n",
    "\n",
    "AI can be understood as the quest for developing non-biological systems that exhibit human-like forms of intelligence\n",
    "\n",
    "    - Non ML AI\n",
    "   AI that are not based machine learning include the symbolic representations or logic rules, which can be written or programmed by observing a human expert performing a particular task \n",
    "    \n",
    "    - ML based AI\n",
    "   Develop ML model to solve single particular task. \n",
    "   \n",
    "    - Categories of AI     \n",
    "    \n",
    "        - Artificial general intelligence (AGI) - Try to mimick human intelligence across tasks\n",
    "        - Narrow AI - Focuses on solving a single, specific task (playing a game, driving a car, and so forth)\n",
    "        \n",
    "    \n",
    "\n",
    "<img src=\"../../images/ml_dl_ai.png\" style=\"height:400px\">\n"
   ]
  },
  {
   "cell_type": "markdown",
   "metadata": {},
   "source": [
    "# Categories of Machine Learning"
   ]
  },
  {
   "cell_type": "markdown",
   "metadata": {},
   "source": [
    "## Supervised Learning\n",
    "\n",
    "- Supervised learning is concerned with predicting a target value given input observations\n",
    "\n",
    "- Supervised learning can be categorized into two major subcategories: \n",
    "    - Regression analysis\n",
    "    - Classification\n",
    "\n",
    "<img src=\"../../images/supervised_learning.png\" style=\"height:300px\">"
   ]
  },
  {
   "cell_type": "markdown",
   "metadata": {},
   "source": [
    "## Unsupervised Learning\n",
    "- In unsupervised learning,  no labeling information is given. \n",
    "- The goal is to discover or model hidden structures in data rather than predicting continuous or discrete target labels.\n",
    "\n",
    "<img src=\"../../images/unsupervised_learning.png\" style=\"height:300px\">"
   ]
  },
  {
   "cell_type": "markdown",
   "metadata": {},
   "source": [
    "## Semi-supervised \n",
    "\n",
    "- Framework of algorithms proposed to improve the performance of supervised algorithms through the use of both labeled and unlabeled data. \n",
    "\n",
    "\n",
    "- One reported limitation of supervised techniques is their requisite of large available training data to achieve accurate predictions on the test data. \n"
   ]
  },
  {
   "cell_type": "markdown",
   "metadata": {},
   "source": [
    "## Self-supervised \n",
    "\n",
    "- Train unsupervised dataset in a supervised manner \n",
    "\n",
    "\n",
    "- We can achieve this by framing a supervised learning task in a special form to predict only a subset of information using the rest. In this way, all the information needed, both inputs and labels, has been provided. This is known as self-supervised learning.\n",
    "\n",
    "\n",
    "- Example: Language modeling, where we predict next word from previous words\n"
   ]
  },
  {
   "cell_type": "markdown",
   "metadata": {},
   "source": [
    "# Nonlinear classification problem\n",
    "\n",
    "- Nonlinear\" means that you can't accurately predict a label with a model which finds line as a decision boundry"
   ]
  },
  {
   "cell_type": "markdown",
   "metadata": {},
   "source": [
    "\n"
   ]
  },
  {
   "cell_type": "markdown",
   "metadata": {},
   "source": [
    "<img src=\"../../images/nonlinear_classifier.png\" style=\"height:300px\">"
   ]
  },
  {
   "cell_type": "code",
   "execution_count": null,
   "metadata": {},
   "outputs": [],
   "source": []
  },
  {
   "cell_type": "markdown",
   "metadata": {},
   "source": [
    "# Neural Network Structure"
   ]
  },
  {
   "cell_type": "markdown",
   "metadata": {},
   "source": [
    "When we express the output as a function of the input and simplify, we get just another weighted sum of the inputs. If we add more such functions(layers) we will get network of layers. But our model is still linear. \n",
    "\n",
    "<img src=\"../../images/linear_model_with_layers.png\" style=\"height:400px\">"
   ]
  },
  {
   "cell_type": "markdown",
   "metadata": {},
   "source": [
    "<img src=\"../../images/nn_with_activation_layer.png\" style=\"height:400px\">"
   ]
  },
  {
   "cell_type": "markdown",
   "metadata": {},
   "source": [
    "# Playing with Neural Network"
   ]
  },
  {
   "cell_type": "markdown",
   "metadata": {},
   "source": [
    "- [Playground Link](https://developers.google.com/machine-learning/crash-course/introduction-to-neural-networks/playground-exercises)"
   ]
  },
  {
   "cell_type": "markdown",
   "metadata": {},
   "source": [
    "# DL frameworks\n",
    "\n",
    "1. Pytorch \n",
    "\n",
    "2. Tensorflow, Keras "
   ]
  },
  {
   "cell_type": "markdown",
   "metadata": {},
   "source": [
    "# References \n",
    "\n",
    "- https://sebastianraschka.com/blog/2020/intro-to-dl-ch01.html "
   ]
  },
  {
   "cell_type": "markdown",
   "metadata": {},
   "source": [
    "# Links for getting started with Pytorch\n",
    "\n",
    "- https://pytorch.org/tutorials/beginner/deep_learning_60min_blitz.html\n",
    "- https://pytorch.org/tutorials/beginner/nn_tutorial.html\n",
    "- https://pytorch.org/tutorials/beginner/pytorch_with_examples.html\n"
   ]
  },
  {
   "cell_type": "code",
   "execution_count": null,
   "metadata": {},
   "outputs": [],
   "source": []
  }
 ],
 "metadata": {
  "kernelspec": {
   "display_name": "Python 3",
   "language": "python",
   "name": "python3"
  },
  "language_info": {
   "codemirror_mode": {
    "name": "ipython",
    "version": 3
   },
   "file_extension": ".py",
   "mimetype": "text/x-python",
   "name": "python",
   "nbconvert_exporter": "python",
   "pygments_lexer": "ipython3",
   "version": "3.6.5"
  },
  "toc": {
   "base_numbering": 1,
   "nav_menu": {},
   "number_sections": true,
   "sideBar": true,
   "skip_h1_title": false,
   "title_cell": "Table of Contents",
   "title_sidebar": "Contents",
   "toc_cell": false,
   "toc_position": {},
   "toc_section_display": true,
   "toc_window_display": true
  }
 },
 "nbformat": 4,
 "nbformat_minor": 4
}
